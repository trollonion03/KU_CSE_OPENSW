{
 "cells": [
  {
   "attachments": {},
   "cell_type": "markdown",
   "metadata": {},
   "source": [
    "오픈소스 SW 입문 - HW1\n",
    "-------------"
   ]
  },
  {
   "attachments": {},
   "cell_type": "markdown",
   "metadata": {},
   "source": [
    "1. Qusetion 1."
   ]
  },
  {
   "cell_type": "code",
   "execution_count": null,
   "metadata": {},
   "outputs": [],
   "source": [
    "i_str = [input() for _ in range(9)]\n",
    "s_str = []\n",
    "\n",
    "for i in  i_str:\n",
    "    i = i.replace(' ', '')\n",
    "    i = i.replace('나', '너')\n",
    "    s_str.append(i)\n",
    "\n",
    "#print(s_str)\n",
    "for i in s_str:\n",
    "    print(i)\n"
   ]
  },
  {
   "attachments": {},
   "cell_type": "markdown",
   "metadata": {},
   "source": [
    "2. Question 2."
   ]
  },
  {
   "cell_type": "code",
   "execution_count": null,
   "metadata": {},
   "outputs": [],
   "source": [
    "print(\"Numbers? \", end='\\n')\n",
    "input_num =  list(map(int, input().split()))\n",
    "#print(input_num)\n",
    "\n",
    "for i in range(len(input_num)-1):\n",
    "    tmp = i\n",
    "    for j in range(i+1, len(input_num)):\n",
    "        if input_num[j] < input_num[tmp]:\n",
    "            tmp = j\n",
    "    input_num[i], input_num[tmp] = input_num[tmp], input_num[i]\n",
    "\n",
    "print(\"Max = \",str(input_num[len(input_num)-1]))"
   ]
  },
  {
   "attachments": {},
   "cell_type": "markdown",
   "metadata": {},
   "source": [
    "3. Question 3.\n",
    "\n",
    "    <수정 필요>\n",
    "\n",
    "    - encode() & decode() 함수에서 공백 문자 분리 기능 수정 필요함."
   ]
  },
  {
   "cell_type": "code",
   "execution_count": null,
   "metadata": {},
   "outputs": [],
   "source": [
    "#다고쳐\n",
    "def encode(s_str, key):\n",
    "    print(\"\\\"\"+s_str+\"\\\" is encoded \", end='')\n",
    "    lis = list(s_str)\n",
    "    \n",
    "    for i in range(len(lis)):\n",
    "        lis[i] = chr(ord(lis[i])+key)\n",
    "    lis[::-1]\n",
    "    s_str = ''.join(lis)\n",
    "\n",
    "    lis = []\n",
    "    lis = s_str.split(chr(ord(' ')+key))\n",
    "    lis.reverse()\n",
    "    s_str = ''\n",
    "    for i in range(len(lis)):\n",
    "        s_str = s_str+lis[i]\n",
    "        if i != len(lis)-1:\n",
    "            s_str = s_str + '!'\n",
    "\n",
    "    print(\"\\\"\"+s_str+\"\\\"\")\n",
    "\n",
    "def decode(s_str, key):\n",
    "    print(\"\\\"\"+s_str+\"\\\" is decoded \", end='')\n",
    "    lis = list(s_str)\n",
    "    \n",
    "    for i in range(len(lis)):\n",
    "        lis[i] = chr(ord(lis[i])-key)\n",
    "    lis[::-1]\n",
    "    s_str = ''.join(lis)\n",
    "\n",
    "    lis = []\n",
    "    lis = s_str.split(' ')\n",
    "    lis.reverse()\n",
    "    s_str = ''\n",
    "    for i in range(len(lis)):\n",
    "        s_str = s_str+lis[i]\n",
    "        if i != len(lis)-1:\n",
    "            s_str = s_str + ' '\n",
    "\n",
    "    print(\"\\\"\"+s_str+\"\\\"\")\n",
    "\n",
    "\n",
    "encode(\"abc def\", 1)\n",
    "decode(\"efg!bcd\", 1)\n"
   ]
  },
  {
   "attachments": {},
   "cell_type": "markdown",
   "metadata": {},
   "source": [
    "4. Question 4."
   ]
  },
  {
   "cell_type": "code",
   "execution_count": null,
   "metadata": {},
   "outputs": [],
   "source": [
    "#dxm.py로 제출\n",
    "import sys\n",
    "\n",
    "cmd = []\n",
    "\n",
    "for i in range(1, len(sys.argv)):\n",
    "    cmd.append(sys.argv[i])\n",
    "\n",
    "for i in cmd:\n",
    "    print(i.upper()+\" \", end='')\n",
    "\n",
    "print()"
   ]
  },
  {
   "attachments": {},
   "cell_type": "markdown",
   "metadata": {},
   "source": [
    "5. Question 5."
   ]
  },
  {
   "cell_type": "code",
   "execution_count": null,
   "metadata": {},
   "outputs": [],
   "source": [
    "import sys\n",
    "\n",
    "if len(sys.argv) != 3:\n",
    "    print(\"Usage: python copy_file.py [source_file_path] [destination_file_path]\")\n",
    "    sys.exit(1)\n",
    "source_file_path = sys.argv[1]\n",
    "destination_file_path = sys.argv[2]\n",
    "\n",
    "with open(source_file_path, 'r') as f:\n",
    "    with open(destination_file_path, 'w') as dest_f:\n",
    "        for line in f:\n",
    "            dest_f.write(line)\n",
    "\n",
    "print(\"complete!\")"
   ]
  }
 ],
 "metadata": {
  "kernelspec": {
   "display_name": "Python 3",
   "language": "python",
   "name": "python3"
  },
  "language_info": {
   "name": "python",
   "version": "3.11.2"
  },
  "orig_nbformat": 4
 },
 "nbformat": 4,
 "nbformat_minor": 2
}
