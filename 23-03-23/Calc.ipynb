{
 "cells": [
  {
   "cell_type": "code",
   "execution_count": 18,
   "metadata": {},
   "outputs": [
    {
     "name": "stdout",
     "output_type": "stream",
     "text": [
      "'I'm Calc Module!\n",
      "1.000000 + 2.000000 = 3.000000\n",
      "1.000000 - 2.000000 = -1.000000\n",
      "1.000000 * 2.000000 = 2.000000\n",
      "Devided by zero!\n"
     ]
    }
   ],
   "source": [
    "from Calc_module import Calc\n",
    "\n",
    "num = Calc()\n",
    "print(num.my_name)\n",
    "num.add(1,2)\n",
    "num.sub(1,2)\n",
    "num.mul(1,2)\n",
    "num.div(1,0)"
   ]
  }
 ],
 "metadata": {
  "kernelspec": {
   "display_name": "Python 3",
   "language": "python",
   "name": "python3"
  },
  "language_info": {
   "codemirror_mode": {
    "name": "ipython",
    "version": 3
   },
   "file_extension": ".py",
   "mimetype": "text/x-python",
   "name": "python",
   "nbconvert_exporter": "python",
   "pygments_lexer": "ipython3",
   "version": "3.11.2"
  },
  "orig_nbformat": 4
 },
 "nbformat": 4,
 "nbformat_minor": 2
}
