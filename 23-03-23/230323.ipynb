{
 "cells": [
  {
   "cell_type": "code",
   "execution_count": 2,
   "metadata": {},
   "outputs": [
    {
     "name": "stdout",
     "output_type": "stream",
     "text": [
      "'I'm Calc Module!\n",
      "1.000000 + 2.000000 = 3.000000\n",
      "1.000000 - 2.000000 = -1.000000\n",
      "1.000000 * 2.000000 = 2.000000\n",
      "Devided by zero!\n"
     ]
    }
   ],
   "source": [
    "from Calc_module import Calc\n",
    "\n",
    "num = Calc()\n",
    "print(num.my_name)\n",
    "num.add(1,2)\n",
    "num.sub(1,2)\n",
    "num.mul(1,2)\n",
    "num.div(1,0)"
   ]
  },
  {
   "cell_type": "code",
   "execution_count": 6,
   "metadata": {},
   "outputs": [
    {
     "name": "stdout",
     "output_type": "stream",
     "text": [
      "1.000000 + 2.000000 + 3.000000 + 4.000000 = 10.000000\n",
      "1.000000 - 2.000000 = -1.000000\n"
     ]
    }
   ],
   "source": [
    "class ParentCalc:\n",
    "    def add(self, a, b):\n",
    "        result = a + b\n",
    "        print(\"{0:f} + {1:f} = {2:f}\".format(a,b,result))\n",
    "    def sub(self, a, b):\n",
    "        result = a - b\n",
    "        print(\"{0:f} - {1:f} = {2:f}\".format(a,b,result))\n",
    "\n",
    "class ChildCalc(ParentCalc):\n",
    "    def add(self, *a):\n",
    "        s = \"{0:f}\".format(a[0])\n",
    "        for i in a[1:]:\n",
    "            s = s + \" + \" + \"{0:f}\".format(i)\n",
    "        result = sum(a)\n",
    "        print(\"{0:s} = {1:f}\".format(s, result))\n",
    "\n",
    "\n",
    "num = ChildCalc()\n",
    "num.add(1,2,3,4)\n",
    "num.sub(1,2) "
   ]
  },
  {
   "cell_type": "code",
   "execution_count": 7,
   "metadata": {},
   "outputs": [
    {
     "name": "stdout",
     "output_type": "stream",
     "text": [
      "Public ParentCalc\n",
      "Private ParentCalc\n",
      "\n",
      "Public ParentCalc\n"
     ]
    },
    {
     "ename": "AttributeError",
     "evalue": "'ParentCalc' object has no attribute '__my_name'",
     "output_type": "error",
     "traceback": [
      "\u001b[1;31m---------------------------------------------------------------------------\u001b[0m",
      "\u001b[1;31mAttributeError\u001b[0m                            Traceback (most recent call last)",
      "Cell \u001b[1;32mIn[7], line 21\u001b[0m\n\u001b[0;32m     19\u001b[0m \u001b[39mprint\u001b[39m(\u001b[39m\"\u001b[39m\u001b[39m\"\u001b[39m)\n\u001b[0;32m     20\u001b[0m \u001b[39mprint\u001b[39m(num1\u001b[39m.\u001b[39mmy_name)\n\u001b[1;32m---> 21\u001b[0m \u001b[39mprint\u001b[39m(num1\u001b[39m.\u001b[39;49m__my_name)\n\u001b[0;32m     23\u001b[0m num \u001b[39m=\u001b[39m ChildCalc()\n\u001b[0;32m     24\u001b[0m num\u001b[39m.\u001b[39madd(\u001b[39m1\u001b[39m,\u001b[39m2\u001b[39m,\u001b[39m3\u001b[39m,\u001b[39m4\u001b[39m)\n",
      "\u001b[1;31mAttributeError\u001b[0m: 'ParentCalc' object has no attribute '__my_name'"
     ]
    }
   ],
   "source": [
    "class ParentCalc:\n",
    "    my_name = \"Public ParentCalc\"\n",
    "    __my_name = \"Private ParentCalc\"\n",
    "    def show_name(self):\n",
    "        print(self.my_name)\n",
    "        print(self.__my_name)\n",
    "\n",
    "\n",
    "class ChildCalc(ParentCalc):\n",
    "    my_name = \"Public ParentCalc\"\n",
    "    __my_name = \"Private ParentCalc\"\n",
    "    def show_name(self):\n",
    "        print(super().my_name)\n",
    "        print(self.my_name)\n",
    "        print(super().__my_name)\n",
    "\n",
    "num1=ParentCalc()\n",
    "num1.show_name()\n",
    "print(\"\")\n",
    "print(num1.my_name)\n",
    "print(num1.__my_name)\n",
    "\n",
    "num = ChildCalc()\n",
    "num.add(1,2,3,4)\n",
    "num.sub(1,2) "
   ]
  },
  {
   "cell_type": "code",
   "execution_count": 1,
   "metadata": {},
   "outputs": [
    {
     "name": "stdout",
     "output_type": "stream",
     "text": [
      "(1, 2)\n",
      "(3, 4)\n",
      "(4, 6)\n"
     ]
    }
   ],
   "source": [
    "class Point:\n",
    "    def __init__(self,x,y):\n",
    "        self.x = x\n",
    "        self.y = y\n",
    "    def __add__(self,other):\n",
    "        self.x += other.x\n",
    "        self.y += other.y\n",
    "        return self\n",
    "    def show(self):\n",
    "        print(\"({0:d}, {1:d})\".format(self.x,self.y))\n",
    "\n",
    "a = Point(1,2)\n",
    "a.show()\n",
    "\n",
    "b = Point(3, 4)\n",
    "b.show()\n",
    "\n",
    "a = a+b\n",
    "a.show()"
   ]
  },
  {
   "cell_type": "code",
   "execution_count": 1,
   "metadata": {},
   "outputs": [
    {
     "name": "stdout",
     "output_type": "stream",
     "text": [
      "division by zero\n",
      "The end!\n"
     ]
    }
   ],
   "source": [
    "num1 = int(input(\"num1=\"))\n",
    "num2 = int(input(\"num2=\"))\n",
    "try:\n",
    "    num3 = num1/num2\n",
    "    print(\"{0:d} / {1:d} = {2:f}\".format(num1, num2, num3))\n",
    "except ZeroDivisionError as e: #or except Exception as e:\n",
    "    print(e)\n",
    "finally:\n",
    "    print(\"The end!\")"
   ]
  },
  {
   "cell_type": "code",
   "execution_count": 3,
   "metadata": {},
   "outputs": [
    {
     "ename": "FileNotFoundError",
     "evalue": "[Errno 2] No such file or directory: 'test.txt'",
     "output_type": "error",
     "traceback": [
      "\u001b[1;31m---------------------------------------------------------------------------\u001b[0m",
      "\u001b[1;31mFileNotFoundError\u001b[0m                         Traceback (most recent call last)",
      "Cell \u001b[1;32mIn[3], line 1\u001b[0m\n\u001b[1;32m----> 1\u001b[0m f \u001b[39m=\u001b[39m \u001b[39mopen\u001b[39;49m(\u001b[39m\"\u001b[39;49m\u001b[39mtest.txt\u001b[39;49m\u001b[39m\"\u001b[39;49m, \u001b[39m\"\u001b[39;49m\u001b[39mr\u001b[39;49m\u001b[39m\"\u001b[39;49m)\n\u001b[0;32m      2\u001b[0m \u001b[39mtry\u001b[39;00m:\n\u001b[0;32m      3\u001b[0m     \u001b[39m.\u001b[39m\u001b[39m.\u001b[39m\u001b[39m.\u001b[39m\n",
      "File \u001b[1;32m~\\AppData\\Local\\Packages\\PythonSoftwareFoundation.Python.3.11_qbz5n2kfra8p0\\LocalCache\\local-packages\\Python311\\site-packages\\IPython\\core\\interactiveshell.py:282\u001b[0m, in \u001b[0;36m_modified_open\u001b[1;34m(file, *args, **kwargs)\u001b[0m\n\u001b[0;32m    275\u001b[0m \u001b[39mif\u001b[39;00m file \u001b[39min\u001b[39;00m {\u001b[39m0\u001b[39m, \u001b[39m1\u001b[39m, \u001b[39m2\u001b[39m}:\n\u001b[0;32m    276\u001b[0m     \u001b[39mraise\u001b[39;00m \u001b[39mValueError\u001b[39;00m(\n\u001b[0;32m    277\u001b[0m         \u001b[39mf\u001b[39m\u001b[39m\"\u001b[39m\u001b[39mIPython won\u001b[39m\u001b[39m'\u001b[39m\u001b[39mt let you open fd=\u001b[39m\u001b[39m{\u001b[39;00mfile\u001b[39m}\u001b[39;00m\u001b[39m by default \u001b[39m\u001b[39m\"\u001b[39m\n\u001b[0;32m    278\u001b[0m         \u001b[39m\"\u001b[39m\u001b[39mas it is likely to crash IPython. If you know what you are doing, \u001b[39m\u001b[39m\"\u001b[39m\n\u001b[0;32m    279\u001b[0m         \u001b[39m\"\u001b[39m\u001b[39myou can use builtins\u001b[39m\u001b[39m'\u001b[39m\u001b[39m open.\u001b[39m\u001b[39m\"\u001b[39m\n\u001b[0;32m    280\u001b[0m     )\n\u001b[1;32m--> 282\u001b[0m \u001b[39mreturn\u001b[39;00m io_open(file, \u001b[39m*\u001b[39;49margs, \u001b[39m*\u001b[39;49m\u001b[39m*\u001b[39;49mkwargs)\n",
      "\u001b[1;31mFileNotFoundError\u001b[0m: [Errno 2] No such file or directory: 'test.txt'"
     ]
    }
   ],
   "source": [
    "f = open(\"test.txt\", \"r\")\n",
    "try:\n",
    "    ...\n",
    "except IOError as e:\n",
    "    print(e)\n",
    "finally:\n",
    "    f.close()"
   ]
  }
 ],
 "metadata": {
  "kernelspec": {
   "display_name": "Python 3",
   "language": "python",
   "name": "python3"
  },
  "language_info": {
   "codemirror_mode": {
    "name": "ipython",
    "version": 3
   },
   "file_extension": ".py",
   "mimetype": "text/x-python",
   "name": "python",
   "nbconvert_exporter": "python",
   "pygments_lexer": "ipython3",
   "version": "3.11.2"
  },
  "orig_nbformat": 4
 },
 "nbformat": 4,
 "nbformat_minor": 2
}
