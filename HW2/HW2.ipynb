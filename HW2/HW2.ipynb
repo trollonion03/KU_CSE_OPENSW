{
 "cells": [
  {
   "attachments": {},
   "cell_type": "markdown",
   "metadata": {},
   "source": [
    "HW2\n",
    "---------------"
   ]
  },
  {
   "attachments": {},
   "cell_type": "markdown",
   "metadata": {},
   "source": [
    "1. Q1"
   ]
  },
  {
   "cell_type": "code",
   "execution_count": 1,
   "metadata": {},
   "outputs": [
    {
     "name": "stdout",
     "output_type": "stream",
     "text": [
      "파이썬 2\n",
      "파일 2\n",
      "읽기 2\n",
      "예제입니다. 2\n",
      "다양한 1\n",
      "메소드를 1\n",
      "공부해 1\n",
      "보세요. 1\n",
      "실력이 1\n",
      "팍팍 1\n",
      "늘 1\n",
      "거예요~ 1\n",
      "단어 1\n",
      "수를 1\n",
      "카운트하는 1\n",
      "실습 1\n"
     ]
    }
   ],
   "source": [
    "f = open('README.txt','r', encoding='UTF-8')\n",
    "\n",
    "list_words = []\n",
    "dictionary_words = {}\n",
    "\n",
    "words = f.read()\n",
    "words = words.replace('\\n', ' ')\n",
    "list_words = words.split(' ')\n",
    "\n",
    "for w in list_words:\n",
    "    if(dictionary_words.get(w) == None):\n",
    "        dictionary_words[w] = 1\n",
    "    else:\n",
    "        dictionary_words[w] += 1\n",
    "    keys = dictionary_words.keys()\n",
    "\n",
    "for w in keys:\n",
    "    print(\"{0} {1}\".format(w, dictionary_words[w]))"
   ]
  },
  {
   "attachments": {},
   "cell_type": "markdown",
   "metadata": {},
   "source": [
    "2. Q2"
   ]
  },
  {
   "cell_type": "code",
   "execution_count": 1,
   "metadata": {},
   "outputs": [
    {
     "name": "stdout",
     "output_type": "stream",
     "text": [
      "(1, 2)\n",
      "(3, 4)\n",
      "(2, 3)\n",
      "(4, 5)\n"
     ]
    }
   ],
   "source": [
    "class Point:\n",
    "    def __init__(self,x,y):\n",
    "        self.x = x\n",
    "        self.y = y\n",
    "    def add(self,other):\n",
    "        self.x += other.x\n",
    "        self.y += other.y\n",
    "        return self\n",
    "    def show(self):\n",
    "        print(\"({0:d}, {1:d})\".format(self.x,self.y))\n",
    "\n",
    "class Box(Point):\n",
    "    x1 = 0\n",
    "    y1 = 0\n",
    "    x2 = 0\n",
    "    y2 = 0\n",
    "\n",
    "    def __init__(self, p1, p2):\n",
    "        self.x1 = p1.x\n",
    "        self.y1 = p1.y\n",
    "        self.x2 = p2.x\n",
    "        self.y2 = p2.y\n",
    "\n",
    "    def move(self, x, y):\n",
    "        self.x1 += x\n",
    "        self.y1 += y\n",
    "        self.x2 += x\n",
    "        self.y2 += y\n",
    "\n",
    "    def show(self):\n",
    "        print(\"({0:d}, {1:d})\".format(self.x1,self.y1))\n",
    "        print(\"({0:d}, {1:d})\".format(self.x2,self.y2))\n",
    "\n",
    "p1 = Point(1,2)\n",
    "p1.show()\n",
    "p2 = Point(3,4)\n",
    "p2.show()\n",
    "\n",
    "b = Box(p1, p2)\n",
    "b.move(1,1)\n",
    "b.show()\n"
   ]
  }
 ],
 "metadata": {
  "kernelspec": {
   "display_name": "Python 3",
   "language": "python",
   "name": "python3"
  },
  "language_info": {
   "codemirror_mode": {
    "name": "ipython",
    "version": 3
   },
   "file_extension": ".py",
   "mimetype": "text/x-python",
   "name": "python",
   "nbconvert_exporter": "python",
   "pygments_lexer": "ipython3",
   "version": "3.11.2"
  },
  "orig_nbformat": 4
 },
 "nbformat": 4,
 "nbformat_minor": 2
}
